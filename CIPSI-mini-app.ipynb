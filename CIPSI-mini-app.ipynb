{
 "cells": [
  {
   "cell_type": "markdown",
   "metadata": {
    "colab_type": "text",
    "id": "C2o8kFKoqrUy"
   },
   "source": [
    "# CIPSI mini app"
   ]
  },
  {
   "cell_type": "markdown",
   "metadata": {
    "colab_type": "text",
    "id": "eRwKlDi6tNVT"
   },
   "source": [
    "## Hartree-Fock determinant\n",
    "\n",
    "We consider a molecular system with $N_{\\text{nuc}}$ nuclei, $N_{\\alpha}$ $\\alpha$-spin electrons and $N_{\\beta}$ $\\beta$-spin electrons.\n",
    "\n",
    "The Hamiltonian operator is\n",
    "$$\n",
    "\\hat{H} = \\hat{T} + \\hat{V}_{\\text{nn}} + \\hat{V}_{\\text{en}}+ \\hat{V}_{\\text{ee}}\n",
    "$$\n",
    "where $\\hat{T}$ is the kinetic energy operator, $\\hat{V}_{\\text{nn}}$ is the nuclear repulsion energy, $\\hat{V}_{\\text{en}}$ is the electron-nucleus attraction and $\\hat{V}_{\\text{ee}}$ is the electron repulsion.\n",
    "\n",
    "We define a set of $N_{\\text{AO}}$ one-electron functions called *atomic orbitals* (AOs) $\\chi_k(\\mathbf{r}),\\; k\\in [1,N_{\\text{AO}}]$. These are atom-centered, and not orthonormal.\n",
    "\n",
    "From the set of AOs, one can define a set of $N_{\\text{MO}} \\le N_{\\text{AO}}$ one-electron functions called *molecular orbitals* (MOs), expressed as \n",
    "$$\n",
    "\\phi_i(\\mathbf{r}) = \\sum_{k=1}^{N_\\text{AO}} C_{ki} \\chi_k(\\mathbf{r}).\n",
    "$$\n",
    "The MOs are orthonormal :\n",
    "$$\n",
    "\\langle i | j \\rangle  = \\int \\phi_i(\\mathbf{r}) \\phi_j(\\mathbf{r}) \\text{d}\\mathbf{r} = \\delta_{ji}.\n",
    "$$ \n",
    "\n",
    "\n",
    "The simplest $N$-electron wave function one can build is a *Slater determinant*. It can be written as:\n",
    "$$\n",
    "\\begin{array}{c}\n",
    " \\Psi_{\\text{HF}}({\\bf r}_1,\\dots,{\\bf r}_{N_\\alpha},{\\bf r}_{N_\\alpha+1},\\dots,{\\bf r}_N;\n",
    "      \\alpha_1,\\dots,\\alpha_{N_\\alpha},\\beta_{N_\\alpha+1},\\dots,\\beta_N) = \\\\\n",
    "\\left|\n",
    " \\begin{array}{ccc}\n",
    " \\phi_1({\\bf r}_1) & \\dots & \\phi_1({\\bf r}_{N_\\alpha}) \\\\\n",
    " \\vdots               & \\dots &   \\vdots             \\\\\n",
    " \\phi_{N_\\alpha}({\\bf r}_1) & \\dots & \\phi_{N_\\alpha}({\\bf r}_{N_\\alpha}) \\\\\n",
    " \\end{array}\n",
    "\\right|\n",
    "\\left|\n",
    " \\begin{array}{ccc}\n",
    " \\phi_1({\\bf r}_{N_\\alpha+1}) & \\dots & \\phi_1({\\bf r}_{N}) \\\\\n",
    " \\vdots               & \\dots &   \\vdots             \\\\\n",
    " \\phi_{N_\\beta}({\\bf r}_{N_\\alpha+1}) & \\dots & \\phi_{N_\\beta}({\\bf r}_{N}) \\\\\n",
    " \\end{array}\n",
    "\\right|\n",
    "\\end{array}\n",
    "$$\n",
    "The Hartree-Fock (HF) determinant is the Slater determinant composed of the MOs which minimize the energy.\n",
    "\n",
    "Usually, the set of MOs we use are Hartree-Fock molecular orbitals.\n",
    "\n",
    "\n"
   ]
  },
  {
   "cell_type": "markdown",
   "metadata": {
    "colab_type": "text",
    "id": "-snbybIM5vM4"
   },
   "source": [
    "## Configuration Interaction\n",
    "\n",
    "The HF determinants is a crude approximation of the $N$-electron wave function. To improve it, one needs to allow variations in a space of $N$-electron basis functions. Given a set of molecular orbitals, the best wave function one can obtain is the wave function expressed in the basis of all possible Slater determinants.\n",
    "\n",
    "Let us take for example a 4-electron wave function (2 $\\alpha$-spin and two $\\beta$-spin), and 3 molecular orbitals. The HF determinant is\n",
    "$$\n",
    "|1\\, 2\\, \\bar{1}\\, \\bar{2} \\rangle =\n",
    "\\left| \\begin{array}{cc}\n",
    " \\phi_1({\\bf r}_1) & \\phi_2({\\bf r}_2) \\\\\n",
    " \\phi_2({\\bf r}_1) & \\phi_1({\\bf r}_2) \n",
    " \\end{array}\n",
    "\\right|\n",
    "\\left| \\begin{array}{cc}\n",
    " \\phi_1({\\bf r}_1) & \\phi_2({\\bf r}_2) \\\\\n",
    " \\phi_2({\\bf r}_1) & \\phi_1({\\bf r}_2) \n",
    " \\end{array}\n",
    "\\right|\n",
    "$$\n",
    "where the bars on top of the numbers denote the $\\beta$ spin.\n",
    "One can in addition build the following Slater determinants:\n",
    " $|1\\, 2\\, \\bar{1}\\, \\bar{3} \\rangle,\n",
    " |1\\, 2\\, \\bar{2}\\, \\bar{3} \\rangle,\n",
    " |1\\, 3\\, \\bar{1}\\, \\bar{2} \\rangle,\n",
    " |1\\, 3\\, \\bar{1}\\, \\bar{3} \\rangle,\n",
    " |1\\, 3\\, \\bar{2}\\, \\bar{3} \\rangle,\n",
    " |2\\, 3\\, \\bar{1}\\, \\bar{2} \\rangle,\n",
    " |2\\, 3\\, \\bar{1}\\, \\bar{3} \\rangle,\n",
    " |2\\, 3\\, \\bar{2}\\, \\bar{3} \\rangle$.\n",
    "\n",
    "and express the wave function as linear combinations of these functions:\n",
    "$$\n",
    "\\Psi = \\sum_I c_I |I\\rangle.\n",
    "$$\n",
    "When a wave function is expressed as a linear combination of Slater determinants, this is *Configuration Interaction*.\n",
    "Diagonalizing the Hamiltonian in this complete $N$-electron basis function is called Full Configuration Interaction (FCI).\n",
    "\n",
    "One can remark that the number of determinant composing the FCI space is :\n",
    "$$ \n",
    " \\aleph = \n",
    "\\binom {N_{\\rm MO}}{N_\\alpha}  \n",
    "\\binom {N_{\\rm MO}}{N_\\beta}\n",
    "$$\n",
    "which grows exponentially. So FCI is a method that can be applied only when the number of electrons is small, or when the number of MOs is small.\n",
    "\n",
    "Remarks:\n",
    "1. As the MOs are orthonormal, the determinants constitute an orthonormal basis,\n",
    "2. as a consequence, matrix elements of the Hamiltonian can be easily evaluated using Slater-Condon's rules (see [Wikipedia](https://en.wikipedia.org/wiki/Slater%E2%80%93Condon_rules) or https://arxiv.org/abs/1311.6244), and\n",
    "3. when determinants $|I\\rangle$ and $|J\\rangle$ differ by more than 2 MOs, the matrix element $\\langle I | \\hat{H} | J\\rangle = 0$. \n",
    "\n",
    "When $|J\\rangle$ differs from $|I\\rangle$ by one (resp. two) MO(s), $|J\\rangle$ is a single (resp. double) excitation with respect to $|I\\rangle$.\n",
    "\n"
   ]
  },
  {
   "cell_type": "markdown",
   "metadata": {
    "colab_type": "text",
    "id": "YtRZDoig9VR3"
   },
   "source": [
    "## CIPSI\n",
    "\n",
    "The CIPSI algorithm is a way to obtain the best possible approximation of the FCI energy by building incrementally the FCI space and estimating with perturbation theory what is missing.\n",
    "\n",
    "1. Start with an internal space $\\mathcal{I}$, and a trial wave function $\\Psi_0$ defined in this space. Usually we start with the HF determinant.\n",
    "2. Build all possible single and double excitations with respect to all determinants of the internal space, and discard the determinants which are already in $\\mathcal{I}$. This set constitues the external space $\\mathcal{E}$.\n",
    "3. For each determinant $|\\alpha \\rangle$ of the external space, estimate by how much the energy will decrease by including the determinant in $\\mathcal{I}$ and diagonalizing. An estimate can be obtained by perturbation theory:\n",
    "$$\n",
    "\\epsilon_\\alpha = \\frac{\\langle \\Psi | \\hat{H} | \\alpha \\rangle^2}{E - \\langle \\alpha | \\hat{H} | \\alpha \\rangle}\n",
    "$$\n",
    "4. Compute the second-order perturbative correction to the energy\n",
    "$$\n",
    "E_{\\text{PT2}} = \\sum_a \\epsilon_\\alpha\n",
    "$$\n",
    "The estimate of the FCI energy is $E + E_{\\text{PT2}}$\n",
    "5. If $|E_{\\text{PT2}}| < \\tau$, then the calculation has converged so we can exit. If not, go to next step \n",
    "6. Select the $|\\alpha\\rangle$'s for which $|\\epsilon_\\alpha|$ is the largest, and expand the internal space with those determinants\n",
    "7. Diagonalize $\\hat{H}$ in this new subspace, and go to step 2.\n"
   ]
  },
  {
   "cell_type": "markdown",
   "metadata": {},
   "source": [
    "-------"
   ]
  },
  {
   "cell_type": "code",
   "execution_count": 12,
   "metadata": {},
   "outputs": [],
   "source": [
    "from collections import defaultdict\n",
    "from itertools   import product\n",
    "from math import sqrt\n",
    "from enum import Enum\n",
    "\n",
    "from typing import Tuple, Dict, NewType, NamedTuple, List"
   ]
  },
  {
   "cell_type": "markdown",
   "metadata": {
    "colab_type": "text",
    "id": "OtvxM7Ngq1Di"
   },
   "source": [
    "# Type definitions"
   ]
  },
  {
   "cell_type": "markdown",
   "metadata": {
    "colab_type": "text",
    "id": "uDE0tx4FrCYx"
   },
   "source": [
    "Orbital indices are integers in the [1:$N_{MO}$] range.\n",
    "\n",
    "One- and two- electron integrals are stored as (key,value) pairs in dictionaries.\n",
    "\n",
    "For the one-electron integral\n",
    "$$\n",
    "\\langle i| \\hat{h} |k \\rangle = \\int \\phi_i(\\mathbf{r}) \\left( -\\frac{1}{2} \\hat{\\Delta} +\\hat{V}_{\\text{en}} \\right) \\phi_k(\\mathbf{r}) \\text{d}\\mathbf{r}\n",
    "$$\n",
    "the key is the tuple `(i,k)` and for the two-electron integral\n",
    "$$\n",
    "\\langle ij|kl \\rangle = \\int \\int \\phi_i(\\mathbf{r}_1) \\phi_j(\\mathbf{r}_2) \\frac{1}{|\\mathbf{r}_1 - \\mathbf{r}_2|} \\phi_k(\\mathbf{r}_1) \\phi_l(\\mathbf{r}_2) d\\mathbf{r}_1 d\\mathbf{r}_2\n",
    "$$\n",
    "the key is the tuple `(i,j,k,l)`.\n",
    "\n",
    "Since many integrals are zer, a `defaultdict` is used and only non-zero integrals are stored."
   ]
  },
  {
   "cell_type": "code",
   "execution_count": 14,
   "metadata": {
    "colab": {},
    "colab_type": "code",
    "id": "jGlpnYp7qxDl"
   },
   "outputs": [],
   "source": [
    "OrbitalIdx = NewType('OrbitalIdx', int)\n",
    "\n",
    "One_electron_integral = Dict[ Tuple[OrbitalIdx,OrbitalIdx], float]\n",
    "\n",
    "Two_electron_integral = Dict[ Tuple[OrbitalIdx,OrbitalIdx,OrbitalIdx,OrbitalIdx], float]\n",
    "\n",
    "Determinant_Spin = Tuple[OrbitalIdx, ...]\n",
    "class Determinant(NamedTuple):\n",
    "    '''Slater determinant: Product of 2 determinants.\n",
    "       One for $\\alpha$ electrons and one for \\beta electrons.'''\n",
    "    alpha: Determinant_Spin\n",
    "    beta: Determinant_Spin\n",
    "        \n",
    "class Spin(Enum):\n",
    "    ALPHA = 0\n",
    "    BETA  = 1"
   ]
  },
  {
   "cell_type": "markdown",
   "metadata": {
    "colab_type": "text",
    "id": "XjCRR2bHGSaf"
   },
   "source": [
    "# Integrals"
   ]
  },
  {
   "cell_type": "code",
   "execution_count": 3,
   "metadata": {},
   "outputs": [],
   "source": [
    "def load_integrals(fcidump_path) -> Tuple[int, Two_electron_integral, One_electron_integral]:\n",
    "    '''Read all the Hamiltonian integrals from the data file.\n",
    "       Returns: (E0, d_one_e_integral, d_two_e_integral).\n",
    "       E0 : a float containing the nuclear repulsion energy (V_nn),\n",
    "       d_one_e_integral : a dictionary of one-electron integrals,\n",
    "       d_two_e_integral : a dictionary of two-electron integrals.\n",
    "       '''\n",
    "\n",
    "    with open(fcidump_path) as f:\n",
    "        data_int = f.readlines()\n",
    "\n",
    "    # Only non-zero integrals are stored in the fci_dump.\n",
    "    # Hence we use a defaultdict to handle the sparsity\n",
    "    d_one_e_integral = defaultdict(int)\n",
    "    d_two_e_integral = defaultdict(int)\n",
    "    for line in data_int[4:]:\n",
    "        v, *l = line.split()\n",
    "        v = float(v)\n",
    "        # Transform from Mulliken (ik|jl) to Dirac's <ij|kl> notation\n",
    "        # (swap indices)\n",
    "        i,k,j,l = list(map(int, l)) \n",
    "    \n",
    "        if i == 0:\n",
    "            E0 = v\n",
    "        elif j == 0:\n",
    "            # One-electron integrals are symmetric (when real, not complex)\n",
    "            d_one_e_integral[ (i,k) ] = v            \n",
    "            d_one_e_integral[ (k,i) ] = v\n",
    "        else:\n",
    "            # Two-electron integrals have many permutation symmetries:\n",
    "            # Exchange r1 and r2 (indices i,k and j,l)\n",
    "            # Exchange i,k (if complex, with a minus sign)\n",
    "            # Exchange j,l (if complex, with a minus sign)\n",
    "            d_two_e_integral[ (i,j,k,l) ] = v\n",
    "            d_two_e_integral[ (i,l,k,j) ] = v        \n",
    "            d_two_e_integral[ (j,i,l,k) ] = v\n",
    "            d_two_e_integral[ (j,k,l,i) ] = v\n",
    "            d_two_e_integral[ (k,j,i,l) ] = v\n",
    "            d_two_e_integral[ (k,l,i,j) ] = v\n",
    "            d_two_e_integral[ (l,i,j,k) ] = v\n",
    "            d_two_e_integral[ (l,k,j,i) ] = v\n",
    "            \n",
    "    return E0, d_one_e_integral, d_two_e_integral    "
   ]
  },
  {
   "cell_type": "code",
   "execution_count": 4,
   "metadata": {},
   "outputs": [],
   "source": [
    "def H_one_e(i: OrbitalIdx, j: OrbitalIdx) -> float :\n",
    "    '''One-electron part of the Hamiltonian: Kinetic energy (T) and\n",
    "       Nucleus-electron potential (V_{en}). This matrix is symmetric.'''\n",
    "    return d_one_e_integral[ (i,j) ]\n",
    "            \n",
    "\n",
    "def H_two_e(i: OrbitalIdx, j: OrbitalIdx, k: OrbitalIdx, l: OrbitalIdx) -> float:\n",
    "    '''Assume that *all* the integrals are in the global_variable\n",
    "       `d_two_e_integral` In this function, for simplicity we don't use any\n",
    "       symmetry sparse representation.  For real calculations, symmetries and\n",
    "       storing only non-zeros needs to be implemented to avoid an explosion of\n",
    "       the memory requirements.''' \n",
    "    return d_two_e_integral[ (i,j,k,l) ]"
   ]
  },
  {
   "cell_type": "markdown",
   "metadata": {},
   "source": [
    "# Hamiltonian matrix elements"
   ]
  },
  {
   "cell_type": "code",
   "execution_count": 5,
   "metadata": {},
   "outputs": [],
   "source": [
    "def load_wf(path_wf) -> Tuple[ List[float] , List[Determinant] ]  :\n",
    "    '''Read the input file :\n",
    "       Representation of the Slater determinants (basis) and\n",
    "       vector of coefficients in this basis (wave function).'''\n",
    "\n",
    "    with open(path_wf) as f:\n",
    "        data = f.read().split()\n",
    "\n",
    "    def decode_det(str_):\n",
    "        for i,v in enumerate(str_, start=1):\n",
    "            if v == '+':\n",
    "                yield i\n",
    "\n",
    "    def grouper(iterable, n):\n",
    "        \"Collect data into fixed-length chunks or blocks\"\n",
    "        args = [iter(iterable)] * n\n",
    "        return zip(*args)\n",
    "        \n",
    "    det = []; psi_coef = []\n",
    "    for (coef, det_i, det_j) in grouper(data,3):\n",
    "        psi_coef.append(float(coef))\n",
    "        det.append ( Determinant( tuple(decode_det(det_i)), tuple(decode_det(det_j) ) ) )\n",
    "        \n",
    "    return psi_coef, det"
   ]
  },
  {
   "cell_type": "markdown",
   "metadata": {},
   "source": [
    "## Slater-Condon rules"
   ]
  },
  {
   "cell_type": "code",
   "execution_count": 15,
   "metadata": {},
   "outputs": [],
   "source": [
    "def get_exc_degree(det_i: Determinant, det_j: Determinant) -> Tuple[int,int]:                                        \n",
    "    '''Compute the excitation degree, the number of orbitals which differ\n",
    "       between the two determinants.\n",
    "    >>> get_exc_degree(Determinant(alpha=(1, 2), beta=(1, 2)),\n",
    "    ...                Determinant(alpha=(1, 3), beta=(5, 7)) )\n",
    "    (1, 2)\n",
    "    '''  \n",
    "    ed_up =  len(set(det_i.alpha).symmetric_difference(set(det_j.alpha))) // 2\n",
    "    ed_dn =  len(set(det_i.beta).symmetric_difference(set(det_j.beta))) // 2\n",
    "    return (ed_up, ed_dn)\n",
    "    \n",
    "       \n",
    "def H_i_i(det_i: Determinant) -> float:\n",
    "    '''Diagonal element of the Hamiltonian : <I|H|I>.'''\n",
    "    res  = sum(H_one_e(i,i) for i in det_i.alpha)\n",
    "    res += sum(H_one_e(i,i) for i in det_i.beta)\n",
    "\n",
    "    res += sum( (H_two_e(i,j,i,j) - H_two_e(i,j,j,i) ) for (i,j) in product(det_i.alpha, det_i.alpha)) // 2\n",
    "    res += sum( (H_two_e(i,j,i,j) - H_two_e(i,j,j,i) ) for (i,j) in product(det_i.beta, det_i.beta)) // 2\n",
    "       \n",
    "    res += sum( H_two_e(i,j,i,j) for (i,j) in product(det_i.alpha, det_i.beta))\n",
    "\n",
    "    return res\n",
    "\n",
    "\n",
    "def H_i_j_single(li: Determinant_Spin, lj: Determinant_Spin, lk: Determinant_Spin) -> float:\n",
    "    '''<I|H|J>, when I and J differ by exactly one orbital.'''\n",
    "    # NOT TESTED /!\\\n",
    "    \n",
    "    # Interaction \n",
    "    m, p = list(set(li).symmetric_difference(set(lj)))\n",
    "    res = H_one_e(m,p)\n",
    "\n",
    "    res += sum ( H_two_e(m,i,p,i)  -  H_two_e(m,i,i,p) for i in li)\n",
    "    res += sum ( H_two_e(m,i,p,i)  -  H_two_e(m,i,i,p) for i in lk)\n",
    "    \n",
    "    # Phase\n",
    "    phase = 1\n",
    "    for l, idx in ( (li,m), (lj,p) ):\n",
    "        for v in l:\n",
    "            phase = -phase\n",
    "            if v == idx:\n",
    "                break\n",
    "    \n",
    "    # Result    \n",
    "    return phase*res\n",
    "\n",
    "    \n",
    "def H_i_j_doubleAA(li: Determinant_Spin, lj: Determinant_Spin) -> float:\n",
    "    '''<I|H|J>, when I and J differ by exactly two orbitals within\n",
    "       the same spin.'''\n",
    "    \n",
    "    #Hole\n",
    "    i, j = sorted(set(li) - set(lj))\n",
    "    #Particle\n",
    "    k, l = sorted(set(lj) - set(li))\n",
    "    \n",
    "    res = ( H_two_e(i,j,k,l)  -  H_two_e(i,j,l,k) )\n",
    "    \n",
    "    # Compute phase. See paper to have a loopless algorithm\n",
    "    # https://arxiv.org/abs/1311.6244\n",
    "    phase = 1\n",
    "    for l_,mp in ( (li,i), (lj,j),  (lj,k), (li,l) ):\n",
    "        for v in l_:\n",
    "            phase = -phase\n",
    "            if v == mp:\n",
    "                break\n",
    "    # https://github.com/QuantumPackage/qp2/blob/master/src/determinants/slater_rules.irp.f:299\n",
    "    a = min(i, k)\n",
    "    b = max(i, k)\n",
    "    c = min(j, l)\n",
    "    d = max(j, l) \n",
    "    if ((a<c) and (c<b) and (b<d)):\n",
    "        phase = -phase\n",
    "    \n",
    "    return phase * res\n",
    "    \n",
    "\n",
    "def H_i_j_doubleAB(det_i: Determinant, det_j: Determinant_Spin) -> float:\n",
    "    '''<I|H|J>, when I and J differ by exactly one alpha spin-orbital and\n",
    "       one beta spin-orbital.'''\n",
    "    i, = set(det_i.alpha) - set(det_j.alpha)\n",
    "    j, = set(det_i.beta) - set(det_j.beta)\n",
    "    \n",
    "    k, = set(det_j.alpha) - set(det_i.alpha)\n",
    "    l, = set(det_j.beta) - set(det_i.beta)\n",
    "\n",
    "    res =  H_two_e(i,j,k,l)\n",
    "  \n",
    "    phase = 1\n",
    "    for l_,mp in ( (det_i.alpha,i), (det_i.beta,j), (det_j.alpha,k), (det_j.beta,l) ):\n",
    "        for v in l_:\n",
    "            phase = -phase\n",
    "            if v == mp:\n",
    "                 break\n",
    "    \n",
    "    return phase * res\n",
    "\n",
    "\n",
    "def H_i_j(det_i: Determinant, det_j: Determinant) -> float:\n",
    "    '''General function to dispatch the evaluation of H_ij'''\n",
    "            \n",
    "    ed_up, ed_dn = get_exc_degree(det_i, det_j)\n",
    "    \n",
    "    # Same determinant -> Diagonal element\n",
    "    if ed_up + ed_dn == 0:\n",
    "        return H_i_i(det_i)\n",
    "\n",
    "    # Single excitation\n",
    "    elif (ed_up, ed_dn) == (1, 0):\n",
    "        return H_i_j_single(det_i.alpha, det_j.alpha, det_i.beta)\n",
    "    elif (ed_up, ed_dn) == (0, 1):\n",
    "        return H_i_j_single(det_i.beta, det_j.beta, det_i.alpha)\n",
    "    \n",
    "    # Double excitation of same spin\n",
    "    elif (ed_up, ed_dn) == (2, 0):\n",
    "        return H_i_j_doubleAA(det_i.alpha,det_j.alpha)\n",
    "    elif (ed_up, ed_dn) == (0, 2):\n",
    "        return H_i_j_doubleAA(det_i.beta,det_j.beta)\n",
    "    \n",
    "    # Double excitation of opposite spins\n",
    "    elif (ed_up, ed_dn) == (1, 1):\n",
    "        return H_i_j_doubleAB(det_i, det_j)\n",
    "    \n",
    "    # More than doubly excited, zero\n",
    "    else:\n",
    "        return 0."
   ]
  },
  {
   "cell_type": "code",
   "execution_count": 16,
   "metadata": {},
   "outputs": [],
   "source": [
    "def E_var(psi_coef, psi_det):\n",
    "    norm2 = sum(c*c for c in psi_coef)\n",
    "    result = sum(psi_coef[i] * psi_coef[j] * H_i_j(det_i,det_j) \\\n",
    "                 for (i,det_i),(j,det_j) in product(enumerate(psi_det),enumerate(psi_det)) )\n",
    "    return E0 + result/norm2"
   ]
  },
  {
   "cell_type": "markdown",
   "metadata": {},
   "source": [
    "## Generators of single and double excitations"
   ]
  },
  {
   "cell_type": "code",
   "execution_count": null,
   "metadata": {},
   "outputs": [],
   "source": [
    "def single_exc(det_i: Determinant, spin: Spin, i: OrbitalIdx, a: OrbitalIdx) -> Determinant:\n",
    "    '''Generates the single excitation from spin-orbital `i` of spin `spin` to\n",
    "       spin-orbital `a` in determinant `det_i`.'''\n",
    "    "
   ]
  },
  {
   "cell_type": "markdown",
   "metadata": {},
   "source": [
    "# Tests"
   ]
  },
  {
   "cell_type": "markdown",
   "metadata": {},
   "source": [
    "## Hartree-Fock determinant"
   ]
  },
  {
   "cell_type": "code",
   "execution_count": 1,
   "metadata": {},
   "outputs": [
    {
     "ename": "NameError",
     "evalue": "name 'load_wf' is not defined",
     "output_type": "error",
     "traceback": [
      "\u001b[0;31m---------------------------------------------------------------------------\u001b[0m",
      "\u001b[0;31mNameError\u001b[0m                                 Traceback (most recent call last)",
      "\u001b[0;32m<ipython-input-1-491aab243664>\u001b[0m in \u001b[0;36m<module>\u001b[0;34m\u001b[0m\n\u001b[1;32m      2\u001b[0m \u001b[0mwf_path\u001b[0m\u001b[0;34m=\u001b[0m\u001b[0;34m'f2_631g.2det.wf'\u001b[0m\u001b[0;34m\u001b[0m\u001b[0;34m\u001b[0m\u001b[0m\n\u001b[1;32m      3\u001b[0m \u001b[0;34m\u001b[0m\u001b[0m\n\u001b[0;32m----> 4\u001b[0;31m \u001b[0m_\u001b[0m\u001b[0;34m,\u001b[0m \u001b[0mdet\u001b[0m \u001b[0;34m=\u001b[0m \u001b[0mload_wf\u001b[0m\u001b[0;34m(\u001b[0m\u001b[0mwf_path\u001b[0m\u001b[0;34m)\u001b[0m\u001b[0;34m\u001b[0m\u001b[0;34m\u001b[0m\u001b[0m\n\u001b[0m\u001b[1;32m      5\u001b[0m \u001b[0;34m\u001b[0m\u001b[0m\n\u001b[1;32m      6\u001b[0m \u001b[0md_two_e_integral\u001b[0m \u001b[0;34m=\u001b[0m \u001b[0mdefaultdict\u001b[0m\u001b[0;34m(\u001b[0m\u001b[0mint\u001b[0m\u001b[0;34m)\u001b[0m\u001b[0;34m\u001b[0m\u001b[0;34m\u001b[0m\u001b[0m\n",
      "\u001b[0;31mNameError\u001b[0m: name 'load_wf' is not defined"
     ]
    }
   ],
   "source": [
    "fcidump_path='f2_631g.FCIDUMP'\n",
    "wf_path='f2_631g.2det.wf'\n",
    "\n",
    "_, det = load_wf(wf_path)\n",
    "\n",
    "d_two_e_integral = defaultdict(int)\n",
    "E0, d_one_e_integral, _ = load_integrals(fcidump_path)\n",
    "E1  = H_i_i(det[0])\n",
    "\n",
    "_, _, d_two_e_integral = load_integrals(fcidump_path)\n",
    "\n",
    "E_hf = E0 + H_i_i(det[0]) \n",
    "E2  = H_i_i(det[0]) - E1\n",
    "\n",
    "print(\"Nuclear repulsion   = {0:15.6f}  | ref :   30.358633\".format(E0))\n",
    "print(\"One-electron energy = {0:15.6f}  | ref : -338.331811\".format(E1))\n",
    "print(\"Two-electron energy = {0:15.6f}  | ref :  109.327081\".format(E2))\n",
    "print(\"Hartree-Fock energy = {0:15.6f}  | ref : -198.646097\".format(E_hf))"
   ]
  },
  {
   "cell_type": "markdown",
   "metadata": {},
   "source": [
    "## Diagonal elements"
   ]
  },
  {
   "cell_type": "code",
   "execution_count": 9,
   "metadata": {},
   "outputs": [
    {
     "name": "stdout",
     "output_type": "stream",
     "text": [
      "H_00 = -198.480726  | ref : -198.480726\n",
      "H_11 = -198.480726  | ref : -198.480726\n",
      "H_22 = -197.890634  | ref : -197.890634\n",
      "H_33 = -197.890634  | ref : -197.890634\n",
      "H_44 = -197.890634  | ref : -197.890634\n",
      "H_55 = -197.890634  | ref : -197.890634\n",
      "H_66 = -197.037911  | ref : -197.037911\n",
      "H_77 = -197.037911  | ref : -197.037911\n",
      "H_88 = -196.351662  | ref : -196.351662\n",
      "H_99 = -196.351662  | ref : -196.351662\n"
     ]
    }
   ],
   "source": [
    "fcidump_path='f2_631g.FCIDUMP'\n",
    "wf_path='f2_631g.10det.wf'\n",
    "\n",
    "psi_coef, det = load_wf(wf_path)\n",
    "\n",
    "E0, d_one_e_integral, d_two_e_integral = load_integrals(fcidump_path)\n",
    "\n",
    "ref_values = [ float(x) for x in '''\n",
    "-198.480725599820005\n",
    "-198.480725599820005\n",
    "-197.890633919391121\n",
    "-197.890633919391149\n",
    "-197.890633919391092\n",
    "-197.890633919391092\n",
    "-197.037911170033709\n",
    "-197.037911170033709\n",
    "-196.351662229345465\n",
    "-196.351662229345465\n",
    "'''.split() ]\n",
    "\n",
    "for i in range(len(psi_coef)):\n",
    "    hii = E_var([1.], [det[i]])\n",
    "    print(\"H_{0}{0} = {1:10.6f}  | ref : {2:10.6f}\".format(i, hii, ref_values[i]))"
   ]
  },
  {
   "cell_type": "markdown",
   "metadata": {},
   "source": [
    "## Double excitation"
   ]
  },
  {
   "cell_type": "code",
   "execution_count": 10,
   "metadata": {},
   "outputs": [
    {
     "name": "stdout",
     "output_type": "stream",
     "text": [
      "Energy =     -198.708402  | ref : -198.708402\n"
     ]
    }
   ],
   "source": [
    "fcidump_path='f2_631g.FCIDUMP'\n",
    "wf_path='f2_631g.2det_double.wf'\n",
    "\n",
    "psi_coef, det = load_wf(wf_path)\n",
    "\n",
    "E0, d_one_e_integral, d_two_e_integral = load_integrals(fcidump_path)\n",
    "\n",
    "\n",
    "E = E_var(psi_coef, det)\n",
    "\n",
    "print(\"Energy = {0:15.6f}  | ref : -198.708402\".format(E))\n"
   ]
  },
  {
   "cell_type": "markdown",
   "metadata": {},
   "source": [
    "## Single excitations"
   ]
  },
  {
   "cell_type": "code",
   "execution_count": null,
   "metadata": {},
   "outputs": [],
   "source": []
  },
  {
   "cell_type": "markdown",
   "metadata": {},
   "source": [
    "## Multi-determinant wave function"
   ]
  },
  {
   "cell_type": "code",
   "execution_count": null,
   "metadata": {},
   "outputs": [],
   "source": [
    "fcidump_path='f2_631g.FCIDUMP'\n",
    "wf_path='f2_631g.10det.wf'\n",
    "\n",
    "psi_coef, det = load_wf(wf_path)\n",
    "\n",
    "E0, d_one_e_integral, d_two_e_integral = load_integrals(fcidump_path)\n",
    "\n",
    "\n",
    "E = E_var(psi_coef, det)\n",
    "\n",
    "print(\"Energy = {0:15.6f}  | ref : -198.548963\".format(E))\n"
   ]
  },
  {
   "cell_type": "code",
   "execution_count": null,
   "metadata": {},
   "outputs": [],
   "source": []
  }
 ],
 "metadata": {
  "colab": {
   "authorship_tag": "ABX9TyPttD1DnSz2UCNjQ3qGI6NQ",
   "collapsed_sections": [
    "VUVJhliTHVSx",
    "GY5QmlYWHZTg"
   ],
   "name": "CIPSI-mini-app.ipynp",
   "provenance": []
  },
  "kernelspec": {
   "display_name": "Python 3",
   "language": "python",
   "name": "python3"
  },
  "language_info": {
   "codemirror_mode": {
    "name": "ipython",
    "version": 3
   },
   "file_extension": ".py",
   "mimetype": "text/x-python",
   "name": "python",
   "nbconvert_exporter": "python",
   "pygments_lexer": "ipython3",
   "version": "3.7.3"
  }
 },
 "nbformat": 4,
 "nbformat_minor": 4
}
