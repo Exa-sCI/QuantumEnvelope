{
 "cells": [
  {
   "cell_type": "code",
   "execution_count": 22,
   "metadata": {},
   "outputs": [],
   "source": [
    "from reusedistance import ReuseDistance\n",
    "import main\n",
    "import numpy as np"
   ]
  },
  {
   "cell_type": "code",
   "execution_count": 23,
   "metadata": {},
   "outputs": [],
   "source": [
    "class TracedHamiltonian(main.Hamiltonian):\n",
    "    def __init__(self, *args, **kwargs):\n",
    "        self.trace = ReuseDistance()\n",
    "        self.distances = []\n",
    "        super().__init__(*args, **kwargs)\n",
    "        \n",
    "    def H_two_e(self, i, j, k, l):\n",
    "        d = self.trace.add_record((i,j,k,l))\n",
    "        self.distances.append(d)\n",
    "        return super().H_two_e(i,j,k,l)"
   ]
  },
  {
   "cell_type": "code",
   "execution_count": 24,
   "metadata": {},
   "outputs": [
    {
     "data": {
      "text/plain": [
       "-198.64609674314374"
      ]
     },
     "execution_count": 24,
     "metadata": {},
     "output_type": "execute_result"
    }
   ],
   "source": [
    "fci_path = 'f2_631g.FCIDUMP'\n",
    "wf_path = 'f2_631g.1det.wf'\n",
    "N_ord, E0, d_one_e_integral, d_two_e_integral = main.load_integrals(f\"data/{fci_path}\")\n",
    "psi_coef, psi_det = main.load_wf(f\"data/{wf_path}\")\n",
    "lewis = TracedHamiltonian(d_one_e_integral, d_two_e_integral, E0)\n",
    "main.Powerplant(lewis, psi_det).E(psi_coef)"
   ]
  },
  {
   "cell_type": "code",
   "execution_count": 25,
   "metadata": {},
   "outputs": [
    {
     "data": {
      "image/png": "[encoded data removed]",
      "text/plain": [
       "<Figure size 432x288 with 1 Axes>"
      ]
     },
     "metadata": {
      "needs_background": "light"
     },
     "output_type": "display_data"
    }
   ],
   "source": [
    "import matplotlib.pyplot as plt\n",
    "\n",
    "plt.hist(lewis.distances)\n",
    "plt.show()"
   ]
  },
  {
   "cell_type": "code",
   "execution_count": null,
   "metadata": {},
   "outputs": [],
   "source": []
  }
 ],
 "metadata": {
  "kernelspec": {
   "display_name": "Python 3",
   "language": "python",
   "name": "python3"
  },
  "language_info": {
   "codemirror_mode": {
    "name": "ipython",
    "version": 3
   },
   "file_extension": ".py",
   "mimetype": "text/x-python",
   "name": "python",
   "nbconvert_exporter": "python",
   "pygments_lexer": "ipython3",
   "version": "3.7.5"
  }
 },
 "nbformat": 4,
 "nbformat_minor": 2
}
