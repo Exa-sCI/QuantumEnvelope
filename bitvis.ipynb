{
 "cells": [
  {
   "cell_type": "code",
   "execution_count": null,
   "metadata": {},
   "outputs": [],
   "source": [
    "#!/bin/env python\n",
    "import numpy as np\n",
    "from tqdm import trange, tqdm\n",
    "from gmpy2 import hamdist\n",
    "from itertools import product, combinations\n",
    "\n",
    "def ctz(d:int) -> int:\n",
    "    '''\n",
    "    count trailing zero bits\n",
    "    https://graphics.stanford.edu/~seander/bithacks.html#ZerosOnRightLinear\n",
    "    '''\n",
    "    if d:\n",
    "        v = ((d ^ (d - 1)) >> 1)  # Set v's trailing 0s to 1s and zero rest\n",
    "        trailing = 0\n",
    "        while v:\n",
    "            v >>= 1\n",
    "            trailing += 1\n",
    "        return trailing\n",
    "    return 64\n",
    "\n",
    "def inext(v: int) -> int:\n",
    "    '''\n",
    "    get next integer that has the same popcount as v\n",
    "    https://graphics.stanford.edu/~seander/bithacks.html#NextBitPermutation\n",
    "    '''\n",
    "    t = v | (v-1)\n",
    "    w = (t+1) | (((~t & -~t) - 1) >> (ctz(v) + 1))\n",
    "    return w\n",
    "\n",
    "def detlist(nmo:int, nelec:int):\n",
    "    '''\n",
    "    generate list of all possible determinants with ne electrons in mo orbitals\n",
    "    represented as integers (1->occupied, 0->virtual)\n",
    "    '''\n",
    "    di=(1<<nelec)-1\n",
    "    dmax=di<<(nmo-nelec)\n",
    "    dets=[]\n",
    "    while (di<=dmax):\n",
    "        dets.append(di)\n",
    "        di=inext(di)\n",
    "    return dets\n",
    "\n",
    "def hmat_from_dets(dets):\n",
    "    ndet = len(dets)\n",
    "    # we know diagonal elements are nonzero, so start from identity matrix\n",
    "    H = np.eye(ndet, dtype=bool)\n",
    "    # H is symmetric, so just loop over upper (or lower) triangle\n",
    "    for i, j in tqdm(combinations(range(0,ndet), 2), total=ndet*(ndet-1)/2):\n",
    "        x = dets[i]\n",
    "        y = dets[j]\n",
    "        # hamdist(x,y) is equivalent to popcount(x^y), number of bits where x,y differ\n",
    "        e = hamdist(x,y)\n",
    "        if e < 5:\n",
    "            H[i, j] = 1\n",
    "            H[j, i] = 1\n",
    "    return H\n",
    "\n",
    "def hmat(nmo,nelec):\n",
    "    return hmat_from_dets(detlist(nmo,nelec))\n",
    "\n",
    "mo=18\n",
    "ne=6\n",
    "H = hmat(mo,ne)"
   ]
  },
  {
   "cell_type": "code",
   "execution_count": null,
   "metadata": {},
   "outputs": [],
   "source": [
    "from numpy import count_nonzero\n",
    "print(\"Sparsity:\", count_nonzero(H)/float(H.size))\n",
    "\n",
    "def nsingles(nmo:int, nelec:int):\n",
    "    return nelec*(nmo-nelec)\n",
    "\n",
    "def ndoubles(nmo:int, nelec:int):\n",
    "    nvirt = nmo - nelec\n",
    "    return (nelec*(nelec-1))//2 * (nvirt*(nvirt-1))//2\n",
    "\n",
    "def fci_ndet(nmo:int,nelec:int):\n",
    "    from scipy.special import comb\n",
    "    return comb(nmo,nelec,exact=True)\n",
    "\n",
    "def fci_sparsity(nmo:int,nelec:int):\n",
    "    return (1 + nsingles(nmo,nelec) + ndoubles(nmo,nelec))/fci_ndet(nmo,nelec)\n",
    "\n",
    "\n",
    "print(\"Sparsity:\", fci_sparsity(mo,ne))\n",
    "\n",
    "    "
   ]
  },
  {
   "cell_type": "code",
   "execution_count": null,
   "metadata": {},
   "outputs": [],
   "source": [
    "import matplotlib.pyplot as plt\n",
    "\n",
    "plt.style.use('grayscale')\n",
    "plt.rcParams['figure.figsize'] = [10, 10]\n",
    "plt.rcParams['figure.dpi'] = 300\n",
    "plt.matshow(H)"
   ]
  },
  {
   "cell_type": "code",
   "execution_count": null,
   "metadata": {},
   "outputs": [],
   "source": [
    "plt.show()"
   ]
  },
  {
   "cell_type": "code",
   "execution_count": null,
   "metadata": {},
   "outputs": [],
   "source": [
    "dets0=detlist(mo,ne)\n",
    "dhf=dets0[0]\n",
    "dets0.sort(key=lambda x:hamdist(x,dhf))\n",
    "h2 = hmat_from_dets(dets0)\n"
   ]
  },
  {
   "cell_type": "code",
   "execution_count": null,
   "metadata": {},
   "outputs": [],
   "source": [
    "plt.style.use('grayscale')\n",
    "plt.rcParams['figure.figsize'] = [10, 10]\n",
    "plt.rcParams['figure.dpi'] = 300\n",
    "plt.matshow(h2)"
   ]
  }
 ],
 "metadata": {
  "kernelspec": {
   "display_name": "Python 3",
   "language": "python",
   "name": "python3"
  },
  "language_info": {
   "codemirror_mode": {
    "name": "ipython",
    "version": 3
   },
   "file_extension": ".py",
   "mimetype": "text/x-python",
   "name": "python",
   "nbconvert_exporter": "python",
   "pygments_lexer": "ipython3",
   "version": "3.7.4"
  }
 },
 "nbformat": 4,
 "nbformat_minor": 2
}
