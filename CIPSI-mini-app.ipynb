{
 "cells": [
  {
   "cell_type": "markdown",
   "metadata": {
    "colab_type": "text",
    "id": "C2o8kFKoqrUy"
   },
   "source": [
    "# CIPSI mini app"
   ]
  },
  {
   "cell_type": "markdown",
   "metadata": {
    "colab_type": "text",
    "id": "eRwKlDi6tNVT"
   },
   "source": [
    "## Hartree-Fock determinant\n",
    "\n",
    "We consider a molecular system with $N_{\\text{nuc}}$ nuclei, $N_{\\alpha}$ $\\alpha$-spin electrons and $N_{\\beta}$ $\\beta$-spin electrons.\n",
    "\n",
    "The Hamiltonian operator is\n",
    "$$\n",
    "\\hat{H} = \\hat{T} + \\hat{V}_{\\text{nn}} + \\hat{V}_{\\text{en}}+ \\hat{V}_{\\text{ee}}\n",
    "$$\n",
    "where $\\hat{T}$ is the kinetic energy operator, $\\hat{V}_{\\text{nn}}$ is the nuclear repulsion energy, $\\hat{V}_{\\text{en}}$ is the electron-nucleus attraction and $\\hat{V}_{\\text{ee}}$ is the electron repulsion.\n",
    "\n",
    "We define a set of $N_{\\text{AO}}$ one-electron functions called *atomic orbitals* (AOs) $\\chi_k(\\mathbf{r}),\\; k\\in [1,N_{\\text{AO}}]$. These are atom-centered, and not orthonormal.\n",
    "\n",
    "From the set of AOs, one can define a set of $N_{\\text{MO}} \\le N_{\\text{AO}}$ one-electron functions called *molecular orbitals* (MOs), expressed as \n",
    "$$\n",
    "\\phi_i(\\mathbf{r}) = \\sum_{k=1}^{N_\\text{AO}} C_{ki} \\chi_k(\\mathbf{r}).\n",
    "$$\n",
    "The MOs are orthonormal :\n",
    "$$\n",
    "\\langle i | j \\rangle  = \\int \\phi_i(\\mathbf{r}) \\phi_j(\\mathbf{r}) \\text{d}\\mathbf{r} = \\delta_{ji}.\n",
    "$$ \n",
    "\n",
    "\n",
    "The simplest $N$-electron wave function one can build is a *Slater determinant*. It can be written as:\n",
    "$$\n",
    "\\begin{array}{c}\n",
    " \\Psi_{\\text{HF}}({\\bf r}_1,\\dots,{\\bf r}_{N_\\alpha},{\\bf r}_{N_\\alpha+1},\\dots,{\\bf r}_N;\n",
    "      \\alpha_1,\\dots,\\alpha_{N_\\alpha},\\beta_{N_\\alpha+1},\\dots,\\beta_N) = \\\\\n",
    "\\left|\n",
    " \\begin{array}{ccc}\n",
    " \\phi_1({\\bf r}_1) & \\dots & \\phi_1({\\bf r}_{N_\\alpha}) \\\\\n",
    " \\vdots               & \\dots &   \\vdots             \\\\\n",
    " \\phi_{N_\\alpha}({\\bf r}_1) & \\dots & \\phi_{N_\\alpha}({\\bf r}_{N_\\alpha}) \\\\\n",
    " \\end{array}\n",
    "\\right|\n",
    "\\left|\n",
    " \\begin{array}{ccc}\n",
    " \\phi_1({\\bf r}_{N_\\alpha+1}) & \\dots & \\phi_1({\\bf r}_{N}) \\\\\n",
    " \\vdots               & \\dots &   \\vdots             \\\\\n",
    " \\phi_{N_\\beta}({\\bf r}_{N_\\alpha+1}) & \\dots & \\phi_{N_\\beta}({\\bf r}_{N}) \\\\\n",
    " \\end{array}\n",
    "\\right|\n",
    "\\end{array}\n",
    "$$\n",
    "The Hartree-Fock (HF) determinant is the Slater determinant composed of the MOs which minimize the energy.\n",
    "\n",
    "Usually, the set of MOs we use are Hartree-Fock molecular orbitals.\n",
    "\n",
    "\n"
   ]
  },
  {
   "cell_type": "markdown",
   "metadata": {
    "colab_type": "text",
    "id": "-snbybIM5vM4"
   },
   "source": [
    "## Configuration Interaction\n",
    "\n",
    "The HF determinants is a crude approximation of the $N$-electron wave function. To improve it, one needs to allow variations in a space of $N$-electron basis functions. Given a set of molecular orbitals, the best wave function one can obtain is the wave function expressed in the basis of all possible Slater determinants.\n",
    "\n",
    "Let us take for example a 4-electron wave function (2 $\\alpha$-spin and two $\\beta$-spin), and 3 molecular orbitals. The HF determinant is\n",
    "$$\n",
    "|1\\, 2\\, \\bar{1}\\, \\bar{2} \\rangle =\n",
    "\\left| \\begin{array}{cc}\n",
    " \\phi_1({\\bf r}_1) & \\phi_2({\\bf r}_2) \\\\\n",
    " \\phi_2({\\bf r}_1) & \\phi_1({\\bf r}_2) \n",
    " \\end{array}\n",
    "\\right|\n",
    "\\left| \\begin{array}{cc}\n",
    " \\phi_1({\\bf r}_1) & \\phi_2({\\bf r}_2) \\\\\n",
    " \\phi_2({\\bf r}_1) & \\phi_1({\\bf r}_2) \n",
    " \\end{array}\n",
    "\\right|\n",
    "$$\n",
    "where the bars on top of the numbers denote the $\\beta$ spin.\n",
    "One can in addition build the following Slater determinants:\n",
    " $|1\\, 2\\, \\bar{1}\\, \\bar{3} \\rangle,\n",
    " |1\\, 2\\, \\bar{2}\\, \\bar{3} \\rangle,\n",
    " |1\\, 3\\, \\bar{1}\\, \\bar{2} \\rangle,\n",
    " |1\\, 3\\, \\bar{1}\\, \\bar{3} \\rangle,\n",
    " |1\\, 3\\, \\bar{2}\\, \\bar{3} \\rangle,\n",
    " |2\\, 3\\, \\bar{1}\\, \\bar{2} \\rangle,\n",
    " |2\\, 3\\, \\bar{1}\\, \\bar{3} \\rangle,\n",
    " |2\\, 3\\, \\bar{2}\\, \\bar{3} \\rangle$.\n",
    "\n",
    "and express the wave function as linear combinations of these functions:\n",
    "$$\n",
    "\\Psi = \\sum_I c_I |I\\rangle.\n",
    "$$\n",
    "When a wave function is expressed as a linear combination of Slater determinants, this is *Configuration Interaction*.\n",
    "Diagonalizing the Hamiltonian in this complete $N$-electron basis function is called Full Configuration Interaction (FCI).\n",
    "\n",
    "One can remark that the number of determinant composing the FCI space is :\n",
    "$$ \n",
    " \\aleph = \n",
    "\\binom {N_{\\rm MO}}{N_\\alpha}  \n",
    "\\binom {N_{\\rm MO}}{N_\\beta}\n",
    "$$\n",
    "which grows exponentially. So FCI is a method that can be applied only when the number of electrons is small, or when the number of MOs is small.\n",
    "\n",
    "Remarks:\n",
    "1. As the MOs are orthonormal, the determinants constitute an orthonormal basis,\n",
    "2. as a consequence, matrix elements of the Hamiltonian can be easily evaluated using Slater-Condon's rules (see [Wikipedia](https://en.wikipedia.org/wiki/Slater%E2%80%93Condon_rules) or https://arxiv.org/abs/1311.6244), and\n",
    "3. when determinants $|I\\rangle$ and $|J\\rangle$ differ by more than 2 MOs, the matrix element $\\langle I | \\hat{H} | J\\rangle = 0$. \n",
    "\n",
    "When $|J\\rangle$ differs from $|I\\rangle$ by one (resp. two) MO(s), $|J\\rangle$ is a single (resp. double) excitation with respect to $|I\\rangle$.\n",
    "\n"
   ]
  },
  {
   "cell_type": "markdown",
   "metadata": {
    "colab_type": "text",
    "id": "YtRZDoig9VR3"
   },
   "source": [
    "## CIPSI\n",
    "\n",
    "The CIPSI algorithm is a way to obtain the best possible approximation of the FCI energy by building incrementally the FCI space and estimating with perturbation theory what is missing.\n",
    "\n",
    "1. Start with an internal space $\\mathcal{I}$, and a trial wave function $\\Psi_0$ defined in this space. Usually we start with the HF determinant.\n",
    "2. Build all possible single and double excitations with respect to all determinants of the internal space, and discard the determinants which are already in $\\mathcal{I}$. This set constitues the external space $\\mathcal{E}$.\n",
    "3. For each determinant $|\\alpha \\rangle$ of the external space, estimate by how much the energy will decrease by including the determinant in $\\mathcal{I}$ and diagonalizing. An estimate can be obtained by perturbation theory:\n",
    "$$\n",
    "\\epsilon_\\alpha = \\frac{\\langle \\Psi | \\hat{H} | \\alpha \\rangle^2}{E - \\langle \\alpha | \\hat{H} | \\alpha \\rangle}\n",
    "$$\n",
    "4. Compute the second-order perturbative correction to the energy\n",
    "$$\n",
    "E_{\\text{PT2}} = \\sum_a \\epsilon_\\alpha\n",
    "$$\n",
    "The estimate of the FCI energy is $E + E_{\\text{PT2}}$\n",
    "5. If $|E_{\\text{PT2}}| < \\tau$, then the calculation has converged so we can exit. If not, go to next step \n",
    "6. Select the $|\\alpha\\rangle$'s for which $|\\epsilon_\\alpha|$ is the largest, and expand the internal space with those determinants\n",
    "7. Diagonalize $\\hat{H}$ in this new subspace, and go to step 2.\n"
   ]
  },
  {
   "cell_type": "markdown",
   "metadata": {},
   "source": [
    "-------"
   ]
  },
  {
   "cell_type": "code",
   "execution_count": 1,
   "metadata": {},
   "outputs": [],
   "source": [
    "from collections import defaultdict\n",
    "from itertools   import product, takewhile\n",
    "from math import sqrt\n",
    "from enum import Enum\n",
    "\n",
    "from typing import Tuple, Dict, NewType, NamedTuple, List\n",
    "\n",
    "def grouper(iterable, n):\n",
    "   '''Collect data into fixed-length chunks or blocks'''\n",
    "   args = [iter(iterable)] * n\n",
    "   return zip(*args)                                "
   ]
  },
  {
   "cell_type": "markdown",
   "metadata": {
    "colab_type": "text",
    "id": "OtvxM7Ngq1Di"
   },
   "source": [
    "# Type definitions"
   ]
  },
  {
   "cell_type": "markdown",
   "metadata": {
    "colab_type": "text",
    "id": "uDE0tx4FrCYx"
   },
   "source": [
    "Orbital indices are integers in the [1:$N_{MO}$] range.\n",
    "\n",
    "One- and two- electron integrals are stored as (key,value) pairs in dictionaries.\n",
    "\n",
    "For the one-electron integral\n",
    "$$\n",
    "\\langle i| \\hat{h} |k \\rangle = \\int \\phi_i(\\mathbf{r}) \\left( -\\frac{1}{2} \\hat{\\Delta} +\\hat{V}_{\\text{en}} \\right) \\phi_k(\\mathbf{r}) \\text{d}\\mathbf{r}\n",
    "$$\n",
    "the key is the tuple `(i,k)` and for the two-electron integral\n",
    "$$\n",
    "\\langle ij|kl \\rangle = \\int \\int \\phi_i(\\mathbf{r}_1) \\phi_j(\\mathbf{r}_2) \\frac{1}{|\\mathbf{r}_1 - \\mathbf{r}_2|} \\phi_k(\\mathbf{r}_1) \\phi_l(\\mathbf{r}_2) d\\mathbf{r}_1 d\\mathbf{r}_2\n",
    "$$\n",
    "the key is the tuple `(i,j,k,l)`.\n",
    "\n",
    "Since many integrals are zeros, a `defaultdict` is used and only non-zero integrals are stored."
   ]
  },
  {
   "cell_type": "code",
   "execution_count": 2,
   "metadata": {
    "colab": {},
    "colab_type": "code",
    "id": "jGlpnYp7qxDl"
   },
   "outputs": [],
   "source": [
    "OrbitalIdx = NewType('OrbitalIdx', int)\n",
    "\n",
    "One_electron_integral = Dict[ Tuple[OrbitalIdx,OrbitalIdx], float]\n",
    "\n",
    "Two_electron_integral = Dict[ Tuple[OrbitalIdx,OrbitalIdx,OrbitalIdx,OrbitalIdx], float]\n",
    "\n",
    "Determinant_Spin = Tuple[OrbitalIdx, ...]\n",
    "class Determinant(NamedTuple):\n",
    "    '''Slater determinant: Product of 2 determinants.\n",
    "       One for $\\alpha$ electrons and one for \\beta electrons.'''\n",
    "    alpha: Determinant_Spin\n",
    "    beta: Determinant_Spin\n",
    "        \n",
    "class Spin(Enum):\n",
    "    ALPHA = 0\n",
    "    BETA  = 1"
   ]
  },
  {
   "cell_type": "markdown",
   "metadata": {
    "colab_type": "text",
    "id": "XjCRR2bHGSaf"
   },
   "source": [
    "# Integrals"
   ]
  },
  {
   "cell_type": "code",
   "execution_count": 3,
   "metadata": {},
   "outputs": [],
   "source": [
    "N_mo = 0  # Number of MOs\n",
    "\n",
    "def load_integrals(fcidump_path) -> Tuple[int, Two_electron_integral, One_electron_integral]:\n",
    "    '''Read all the Hamiltonian integrals from the data file.\n",
    "       Returns: (E0, d_one_e_integral, d_two_e_integral).\n",
    "       E0 : a float containing the nuclear repulsion energy (V_nn),\n",
    "       d_one_e_integral : a dictionary of one-electron integrals,\n",
    "       d_two_e_integral : a dictionary of two-electron integrals.\n",
    "       '''\n",
    "\n",
    "    global N_mo\n",
    "    with open(fcidump_path) as f:\n",
    "        data_int = f.readlines()\n",
    "\n",
    "    N_mo = 0\n",
    "    \n",
    "    # Only non-zero integrals are stored in the fci_dump.\n",
    "    # Hence we use a defaultdict to handle the sparsity\n",
    "    d_one_e_integral = defaultdict(float)\n",
    "    d_two_e_integral = defaultdict(float)\n",
    "    for line in data_int[4:]:\n",
    "        v, *l = line.split()\n",
    "        v = float(v)\n",
    "        # Transform from Mulliken (ik|jl) to Dirac's <ij|kl> notation\n",
    "        # (swap indices)\n",
    "        i,k,j,l = list(map(int, l)) \n",
    "        N_mo = max(i,N_mo)\n",
    "    \n",
    "        if i == 0:\n",
    "            E0 = v\n",
    "        elif j == 0:\n",
    "            # One-electron integrals are symmetric (when real, not complex)\n",
    "            d_one_e_integral[ (i,k) ] = v            \n",
    "            d_one_e_integral[ (k,i) ] = v\n",
    "        else:\n",
    "            # Two-electron integrals have many permutation symmetries:\n",
    "            # Exchange r1 and r2 (indices i,k and j,l)\n",
    "            # Exchange i,k (if complex, with a minus sign)\n",
    "            # Exchange j,l (if complex, with a minus sign)\n",
    "            d_two_e_integral[ (i,j,k,l) ] = v\n",
    "            d_two_e_integral[ (i,l,k,j) ] = v        \n",
    "            d_two_e_integral[ (j,i,l,k) ] = v\n",
    "            d_two_e_integral[ (j,k,l,i) ] = v\n",
    "            d_two_e_integral[ (k,j,i,l) ] = v\n",
    "            d_two_e_integral[ (k,l,i,j) ] = v\n",
    "            d_two_e_integral[ (l,i,j,k) ] = v\n",
    "            d_two_e_integral[ (l,k,j,i) ] = v\n",
    "            \n",
    "    return E0, d_one_e_integral, d_two_e_integral    "
   ]
  },
  {
   "cell_type": "code",
   "execution_count": 4,
   "metadata": {},
   "outputs": [],
   "source": [
    "def H_one_e(i: OrbitalIdx, j: OrbitalIdx) -> float :\n",
    "    '''One-electron part of the Hamiltonian: Kinetic energy (T) and\n",
    "       Nucleus-electron potential (V_{en}). This matrix is symmetric.'''\n",
    "    return d_one_e_integral[ (i,j) ]\n",
    "            \n",
    "\n",
    "def H_two_e(i: OrbitalIdx, j: OrbitalIdx, k: OrbitalIdx, l: OrbitalIdx) -> float:\n",
    "    '''Assume that *all* the integrals are in the global_variable\n",
    "       `d_two_e_integral` In this function, for simplicity we don't use any\n",
    "       symmetry sparse representation.  For real calculations, symmetries and\n",
    "       storing only non-zeros needs to be implemented to avoid an explosion of\n",
    "       the memory requirements.''' \n",
    "    return d_two_e_integral[ (i,j,k,l) ]\n"
   ]
  },
  {
   "cell_type": "markdown",
   "metadata": {},
   "source": [
    "# Hamiltonian matrix elements"
   ]
  },
  {
   "cell_type": "code",
   "execution_count": 5,
   "metadata": {},
   "outputs": [],
   "source": [
    "def load_wf(path_wf) -> Tuple[ List[float] , List[Determinant] ]  :\n",
    "    '''Read the input file :\n",
    "       Representation of the Slater determinants (basis) and\n",
    "       vector of coefficients in this basis (wave function).'''\n",
    "\n",
    "    with open(path_wf) as f:\n",
    "        data = f.read().split()\n",
    "\n",
    "    def decode_det(str_):\n",
    "        for i,v in enumerate(str_, start=1):\n",
    "            if v == '+':\n",
    "                yield i\n",
    "\n",
    "    def grouper(iterable, n):\n",
    "        \"Collect data into fixed-length chunks or blocks\"\n",
    "        args = [iter(iterable)] * n\n",
    "        return zip(*args)\n",
    "        \n",
    "    det = []; psi_coef = []\n",
    "    for (coef, det_i, det_j) in grouper(data,3):\n",
    "        psi_coef.append(float(coef))\n",
    "        det.append ( Determinant( tuple(decode_det(det_i)), tuple(decode_det(det_j) ) ) )\n",
    "\n",
    "    norm = sqrt(sum(c*c for c in psi_coef))\n",
    "    psi_coef = [c / norm for c in psi_coef]\n",
    "    \n",
    "    return psi_coef, det"
   ]
  },
  {
   "cell_type": "markdown",
   "metadata": {},
   "source": [
    "## Slater-Condon rules"
   ]
  },
  {
   "cell_type": "markdown",
   "metadata": {},
   "source": [
    "### Excitation degree\n",
    "\n",
    "Number of different MOs between two determinants"
   ]
  },
  {
   "cell_type": "code",
   "execution_count": 6,
   "metadata": {},
   "outputs": [],
   "source": [
    "def get_exc_degree(det_i: Determinant, det_j: Determinant) -> Tuple[int,int]:                                        \n",
    "    '''Compute the excitation degree, the number of orbitals which differ\n",
    "       between the two determinants.\n",
    "    >>> get_exc_degree(Determinant(alpha=(1, 2), beta=(1, 2)),\n",
    "    ...                Determinant(alpha=(1, 3), beta=(5, 7)) )\n",
    "    (1, 2)\n",
    "    '''  \n",
    "    ed_up =  len(set(det_i.alpha).symmetric_difference(set(det_j.alpha))) // 2\n",
    "    ed_dn =  len(set(det_i.beta ).symmetric_difference(set(det_j.beta ))) // 2\n",
    "    return (ed_up, ed_dn)"
   ]
  },
  {
   "cell_type": "markdown",
   "metadata": {},
   "source": [
    "### Diagonal elements"
   ]
  },
  {
   "cell_type": "code",
   "execution_count": 7,
   "metadata": {},
   "outputs": [],
   "source": [
    "def H_i_i(det_i: Determinant) -> float:\n",
    "    '''Diagonal element of the Hamiltonian : <I|H|I>.'''\n",
    "    res = E0\n",
    "    res += sum(H_one_e(i,i) for i in det_i.alpha)\n",
    "    res += sum(H_one_e(i,i) for i in det_i.beta)\n",
    "\n",
    "    res += sum( (H_two_e(i,j,i,j) - H_two_e(i,j,j,i) ) for (i,j) in product(det_i.alpha, det_i.alpha)) / 2.\n",
    "    res += sum( (H_two_e(i,j,i,j) - H_two_e(i,j,j,i) ) for (i,j) in product(det_i.beta , det_i.beta )) / 2.\n",
    "       \n",
    "    res += sum( H_two_e(i,j,i,j) for (i,j) in product(det_i.alpha, det_i.beta))\n",
    "\n",
    "    return res"
   ]
  },
  {
   "cell_type": "markdown",
   "metadata": {},
   "source": [
    "### Single excitations"
   ]
  },
  {
   "cell_type": "code",
   "execution_count": 8,
   "metadata": {},
   "outputs": [],
   "source": [
    "def get_phase_idx_single_exc(det_i: Determinant_Spin, det_j: Determinant_Spin) -> Tuple[int,int,int]:\n",
    "    '''phase, hole, particle of <I|H|J> when I and J differ by exactly one orbital\n",
    "       h is occupied only in I\n",
    "       p is occupied only in J'''\n",
    "\n",
    "    h, = set(det_i) - set(det_j)\n",
    "    p, = set(det_j) - set(det_i)\n",
    "\n",
    "    phase=1.\n",
    "    for det, idx in ((det_i,h),(det_j,p)):\n",
    "        for _ in takewhile(lambda x: x != idx, det):\n",
    "            phase = -phase\n",
    "\n",
    "    return (phase,h,p)\n",
    "\n",
    "\n",
    "def single_exc(det_i: Determinant, spin: Spin, i: OrbitalIdx, a: OrbitalIdx) -> Determinant:\n",
    "    '''Generates the single excitation from spin-orbital `i` of spin `spin` to\n",
    "       spin-orbital `a` in determinant `det_i`.'''\n",
    "    \n",
    "    if (det_i is None) or (i == a):\n",
    "        return None\n",
    "    \n",
    "    if spin == Spin.ALPHA:\n",
    "        s = det_i.alpha\n",
    "    else:\n",
    "        s = det_i.beta\n",
    "        \n",
    "    if i not in s or a in s:\n",
    "        # Impossible excitation\n",
    "        return None\n",
    "    \n",
    "    ls = list(s)\n",
    "    ls[s.index(i)] = a\n",
    "    ls.sort()\n",
    "    new_s = tuple(ls)\n",
    "    \n",
    "    if spin == Spin.ALPHA:\n",
    "        new_det = Determinant(new_s, det_i.beta)\n",
    "    else:\n",
    "        new_det = Determinant(det_i.alpha, new_s)\n",
    "    \n",
    "    assert (sum(get_exc_degree(det_i, new_det)) == 1)\n",
    "    return new_det\n",
    "    \n",
    "\n",
    "def H_i_j_single(detspin_i: Determinant_Spin, detspin_j: Determinant_Spin, detspin_k: Determinant_Spin) -> float:\n",
    "    '''<I|H|J>, when I and J differ by exactly one orbital.'''\n",
    "        \n",
    "    # Interaction \n",
    "    phase, m, p = self.get_phase_idx_single_exc(detspin_i,detspin_j)\n",
    "    res = self.H_one_e(m,p)\n",
    "    \n",
    "    res += sum ( self.H_two_e(m,i,p,i) - self.H_two_e(m,i,i,p) for i in detspin_i)\n",
    "    res += sum ( self.H_two_e(m,i,p,i) for i in detspin_k)\n",
    "    return phase * res"
   ]
  },
  {
   "cell_type": "markdown",
   "metadata": {},
   "source": [
    "### Double excitations"
   ]
  },
  {
   "cell_type": "code",
   "execution_count": 9,
   "metadata": {},
   "outputs": [],
   "source": [
    "def get_phase_idx_double_exc(det_i: Determinant_Spin, det_j: Determinant_Spin) -> Tuple[int,int,int,int,int]:\n",
    "    '''phase, holes, particles of <I|H|J> when I and J differ by exactly two orbitals\n",
    "       h1, h2 are occupied only in I\n",
    "       p1, p2 are occupied only in J'''\n",
    "\n",
    "    #Holes\n",
    "    h1, h2 = sorted(set(det_i) - set(det_j))\n",
    "    \n",
    "    #Particles\n",
    "    p1, p2 = sorted(set(det_j) - set(det_i))\n",
    "    \n",
    "    DI = Determinant(det_i,())\n",
    "    DJ = Determinant(det_j,())\n",
    "    Dtmp = single_exc(DI,Spin.ALPHA,h1,p1)\n",
    "    \n",
    "    phase1, _, _ = get_phase_idx_single_exc(DI, Dtmp)\n",
    "    phase2, _, _ = get_phase_idx_single_exc(Dtmp, DJ)\n",
    "    \n",
    "    phase = phase1 * phase2\n",
    "    \n",
    "    return (phase, h1, h2, p1, p2)\n",
    "\n",
    "\n",
    "def double_exc(det_i: Determinant,\n",
    "               spin_1: Spin,\n",
    "               spin_2: Spin,\n",
    "               i: OrbitalIdx,\n",
    "               a: OrbitalIdx,\n",
    "               j: OrbitalIdx,\n",
    "               b: OrbitalIdx):\n",
    "    if (spin_1 == spin_2) and (a == j or i == b):  # It is a single\n",
    "        new_det = None\n",
    "    else:\n",
    "        new_det = \\\n",
    "            single_exc( \n",
    "               single_exc(det_i, spin_1, i, a),\n",
    "                                 spin_2, j, b)\n",
    "    assert (new_det is None or sum(get_exc_degree(det_i, new_det)) == 2)\n",
    "    return new_det\n",
    "\n",
    "\n",
    "def H_i_j_doubleAA(li: Determinant_Spin, lj: Determinant_Spin) -> float:\n",
    "    '''<I|H|J>, when I and J differ by exactly two orbitals within\n",
    "       the same spin.'''\n",
    "    \n",
    "    phase, h1, h2, p1, p2 = get_phase_idx_double_exc(li,lj)\n",
    "    \n",
    "    res = H_two_e(h1, h2, p1, p2) -  H_two_e(h1, h2, p2, p1)\n",
    "    \n",
    "    return phase * res\n",
    "    \n",
    "\n",
    "def H_i_j_doubleAB(det_i: Determinant, det_j: Determinant_Spin) -> float:\n",
    "    '''<I|H|J>, when I and J differ by exactly one alpha spin-orbital and\n",
    "       one beta spin-orbital.'''\n",
    "    \n",
    "    phaseA, hA, pA = get_phase_idx_single_exc(det_i.alpha, det_j.alpha)\n",
    "    phaseB, hB, pB = get_phase_idx_single_exc(det_i.beta , det_j.beta)\n",
    "    \n",
    "    phase = phaseA * phaseB\n",
    "    res = H_two_e(hA, hB, pA, pB)\n",
    "  \n",
    "    return phase * res"
   ]
  },
  {
   "cell_type": "markdown",
   "metadata": {},
   "source": [
    "### General dispatch function"
   ]
  },
  {
   "cell_type": "code",
   "execution_count": 10,
   "metadata": {},
   "outputs": [],
   "source": [
    "def H_i_j(det_i: Determinant, det_j: Determinant) -> float:\n",
    "    '''General function to dispatch the evaluation of H_ij'''\n",
    "            \n",
    "    ed_up, ed_dn = get_exc_degree(det_i, det_j)\n",
    "    \n",
    "    # Same determinant -> Diagonal element\n",
    "    if (ed_up, ed_dn) == (0, 0):\n",
    "        return H_i_i(det_i)\n",
    "\n",
    "    # Single excitation\n",
    "    elif (ed_up, ed_dn) == (1, 0):\n",
    "        return H_i_j_single(det_i.alpha, det_j.alpha, det_i.beta)\n",
    "    elif (ed_up, ed_dn) == (0, 1):\n",
    "        return H_i_j_single(det_i.beta, det_j.beta, det_i.alpha)\n",
    "    \n",
    "    # Double excitation of same spin\n",
    "    elif (ed_up, ed_dn) == (2, 0):\n",
    "        return H_i_j_doubleAA(det_i.alpha,det_j.alpha)\n",
    "    elif (ed_up, ed_dn) == (0, 2):\n",
    "        return H_i_j_doubleAA(det_i.beta,det_j.beta)\n",
    "    \n",
    "    # Double excitation of opposite spins\n",
    "    elif (ed_up, ed_dn) == (1, 1):\n",
    "        return H_i_j_doubleAB(det_i, det_j)\n",
    "    \n",
    "    # More than doubly excited, zero\n",
    "    else:\n",
    "        return 0."
   ]
  },
  {
   "cell_type": "markdown",
   "metadata": {},
   "source": [
    "## Variational energy"
   ]
  },
  {
   "cell_type": "code",
   "execution_count": 11,
   "metadata": {},
   "outputs": [],
   "source": [
    "def E_var(det, psi_coef):\n",
    "    norm2  = sum(c*c for c in psi_coef)\n",
    "    result = sum(psi_coef[i] * psi_coef[j] * H_i_j(det_i,det_j) \\\n",
    "                 for (i,det_i),(j,det_j) in\n",
    "                 product(enumerate(det),enumerate(det)))\n",
    "    return result/norm2"
   ]
  },
  {
   "cell_type": "code",
   "execution_count": 12,
   "metadata": {},
   "outputs": [],
   "source": [
    "def E_var_with_matrices(det, psi_coef):\n",
    "    import numpy as np\n",
    "    \n",
    "    h_mat = np.array( [ [H_i_j(det_i, det_j) for det_j in det] \\\n",
    "                for det_i in det], dtype=float)\n",
    "    \n",
    "    psi = np.array(psi_coef, dtype=float)\n",
    "    h_psi = np.matmul(h_mat, psi)\n",
    "    \n",
    "    return np.matmul(np.transpose(psi),h_psi) / np.dot(psi,psi)"
   ]
  },
  {
   "cell_type": "markdown",
   "metadata": {},
   "source": [
    "## Generators of single and double excitations"
   ]
  },
  {
   "cell_type": "code",
   "execution_count": 13,
   "metadata": {},
   "outputs": [],
   "source": [
    "def generate_all_singles(det_i):\n",
    "    s = [ single_exc(det_i, spin, hole, particle) \\\n",
    "          for (hole,particle) in product(range(1,N_mo),range(1,N_mo))\n",
    "          for spin in [Spin.ALPHA, Spin.BETA] ]\n",
    "    return set( x for x in s if x is not None )\n",
    "    \n",
    "    \n",
    "def generate_all_doubles(det_i):\n",
    "    s = [ double_exc(det_i, spin_1, spin_2, \\\n",
    "                     hole_1, particle_1, \\\n",
    "                     hole_2, particle_2) \\\n",
    "          for (hole_1, particle_1) in product(range(1,N_mo),range(1,N_mo)) \\\n",
    "          for (hole_2, particle_2) in product(range(1,N_mo),range(1,N_mo)) \\\n",
    "          for (spin_1, spin_2) in [ (Spin.ALPHA, Spin.ALPHA),\n",
    "                                    (Spin.BETA , Spin.BETA ),\n",
    "                                    (Spin.ALPHA, Spin.BETA ) ] ]\n",
    "    return set( x for x in s if x is not None )\n",
    "    \n",
    "    \n",
    "def generate_all_singles_and_doubles(det_i):\n",
    "    return generate_all_singles(det_i).union ( \\\n",
    "           generate_all_doubles(det_i) )"
   ]
  },
  {
   "cell_type": "markdown",
   "metadata": {},
   "source": [
    "# Selection and $E_\\text{PT2}$"
   ]
  },
  {
   "cell_type": "markdown",
   "metadata": {},
   "source": [
    "### Simple formulation"
   ]
  },
  {
   "cell_type": "code",
   "execution_count": 14,
   "metadata": {},
   "outputs": [],
   "source": [
    "def generate_external_space(det):\n",
    "    internal_space = set(det)\n",
    "    external_space = list(set.union( * [generate_all_singles_and_doubles(det_i) \\\n",
    "                        for det_i in det]).difference(internal_space))\n",
    "    return external_space\n",
    "    \n",
    "def pt2_contrib(det_alpha, det, coef, E):\n",
    "    '''The wave function is assumed normalized.'''\n",
    "    psi_H_alpha = sum( ci * H_i_j(det_i, det_alpha) for (ci,det_i) in zip(coef, det) )\n",
    "    delta_E = E - H_i_i(det_alpha)\n",
    "    result = psi_H_alpha**2 / delta_E\n",
    "    return result\n",
    "\n",
    "def e_pt2(det, coef, E):\n",
    "    external_space = generate_external_space(det)\n",
    "    \n",
    "    # Normalize wave function\n",
    "    norm = 1./sqrt(sum(c*c for c in coef))\n",
    "    coef = [c * norm for c in coef]\n",
    "\n",
    "    return sum(pt2_contrib(det_alpha, det, coef, E) for det_alpha in external_space)\n",
    "\n",
    "def select_determinants(det, coef, E, N):\n",
    "    external_space = generate_external_space(det)\n",
    "    res = [(pt2_contrib(det_alpha, det, coef, E), det_alpha) for det_alpha in external_space]\n",
    "    res.sort()\n",
    "    return res[:N]\n",
    "    "
   ]
  },
  {
   "cell_type": "markdown",
   "metadata": {},
   "source": [
    "### Matrix formulation"
   ]
  },
  {
   "cell_type": "markdown",
   "metadata": {},
   "source": [
    "$$\n",
    "E_\\text{PT2} = \\Psi^\\dagger \\mathbf{H}^\\dagger \\mathbf{\\Delta}^{-1} \\mathbf{H} \\Psi\n",
    "$$\n",
    "where $\\Psi$ is the wave function, $\\mathbf{H}$ is the off-diagonal block of the Hamiltonian connecting the internal and the external spaces, and\n",
    "$$\n",
    "\\Delta_{ij} = \\delta_{ij}(E - H_{ii}).\n",
    "$$\n"
   ]
  },
  {
   "cell_type": "code",
   "execution_count": 15,
   "metadata": {},
   "outputs": [],
   "source": [
    "def e_pt2_with_matrices(det, psi, E):\n",
    "    import numpy as np\n",
    "    \n",
    "    external_space = generate_external_space(det)\n",
    "    \n",
    "    psi = np.array(psi)\n",
    "    psi = psi / sqrt(np.dot(psi,psi))\n",
    "    \n",
    "    h_mat = np.array( [ [H_i_j(det_alpha, det_i) for det_i in det] \\\n",
    "                for det_alpha in external_space ])\n",
    "    \n",
    "    h_psi = np.matmul(h_mat, psi)\n",
    "    \n",
    "    x = h_psi / np.array([E - H_i_i(det_alpha) for det_alpha in external_space])\n",
    "    \n",
    "\n",
    "    return np.dot(h_psi,x)\n"
   ]
  },
  {
   "cell_type": "code",
   "execution_count": 16,
   "metadata": {},
   "outputs": [],
   "source": [
    "def variance(det, psi):\n",
    "    import numpy as np\n",
    "    external_space = generate_external_space(det)\n",
    "    \n",
    "    psi = np.array(psi)\n",
    "    psi = psi / sqrt(np.dot(psi,psi))\n",
    "    \n",
    "    h_mat = np.array( [ [H_i_j(det_alpha, det_i) for det_i in det] \\\n",
    "               for det_alpha in external_space ])\n",
    "\n",
    "    h_psi = np.matmul(h_mat, psi)\n",
    "    \n",
    "    return np.dot(h_psi,h_psi)\n"
   ]
  },
  {
   "cell_type": "markdown",
   "metadata": {},
   "source": [
    "# Tests"
   ]
  },
  {
   "cell_type": "markdown",
   "metadata": {},
   "source": [
    "## Hartree-Fock determinant"
   ]
  },
  {
   "cell_type": "code",
   "execution_count": 17,
   "metadata": {},
   "outputs": [
    {
     "name": "stdout",
     "output_type": "stream",
     "text": [
      "Determinant(alpha=(1, 2, 3, 4, 5, 6, 7, 8, 9), beta=(1, 2, 3, 4, 5, 6, 7, 8, 9))\n",
      "Number of MOs       =              18  | ref :          18\n",
      "Nuclear repulsion   =       30.358633  | ref :   30.358633\n",
      "One-electron energy =     -338.331811  | ref : -338.331811\n",
      "Two-electron energy =      109.327081  | ref :  109.327081\n",
      "Hartree-Fock energy =     -198.646097  | ref : -198.646097\n"
     ]
    }
   ],
   "source": [
    "fcidump_path='data/f2_631g.FCIDUMP'\n",
    "wf_path='data/f2_631g.2det.wf'\n",
    "\n",
    "_, det = load_wf(wf_path)\n",
    "\n",
    "d_two_e_integral = defaultdict(float)\n",
    "E0, d_one_e_integral, _ = load_integrals(fcidump_path)\n",
    "E1  = H_i_i(det[0]) - E0\n",
    "\n",
    "_, _, d_two_e_integral = load_integrals(fcidump_path)\n",
    "\n",
    "E_hf = H_i_i(det[0]) \n",
    "E2  = H_i_i(det[0]) - E0 - E1\n",
    "\n",
    "print(det[0])\n",
    "\n",
    "print(\"Number of MOs       = {0:15d}  | ref :          18\".format(N_mo))\n",
    "print(\"Nuclear repulsion   = {0:15.6f}  | ref :   30.358633\".format(E0))\n",
    "print(\"One-electron energy = {0:15.6f}  | ref : -338.331811\".format(E1))\n",
    "print(\"Two-electron energy = {0:15.6f}  | ref :  109.327081\".format(E2))\n",
    "print(\"Hartree-Fock energy = {0:15.6f}  | ref : -198.646097\".format(E_hf))"
   ]
  },
  {
   "cell_type": "markdown",
   "metadata": {},
   "source": [
    "## Hamiltonian matrix elements"
   ]
  },
  {
   "cell_type": "code",
   "execution_count": 18,
   "metadata": {
    "scrolled": true
   },
   "outputs": [
    {
     "name": "stdout",
     "output_type": "stream",
     "text": [
      " 0  0  (0, 0) -2.28839359e+02 | ref : -2.28839359e+02 \n",
      " 0  1  (1, 1)  2.92053704e-02 | ref :  2.92053704e-02 \n",
      " 0  2  (1, 1) -1.25598589e-02 | ref : -1.25598589e-02 \n",
      " 0  3  (1, 1) -1.68761957e-01 | ref : -1.68761957e-01 \n",
      " 0  4  (1, 1)  1.45829483e-01 | ref :  1.45829483e-01 \n",
      " 0  5  (1, 1)  1.08531435e-02 | ref :  1.08531435e-02 \n"
     ]
    },
    {
     "ename": "NameError",
     "evalue": "name 'self' is not defined",
     "output_type": "error",
     "traceback": [
      "\u001b[0;31m---------------------------------------------------------------------------\u001b[0m",
      "\u001b[0;31mNameError\u001b[0m                                 Traceback (most recent call last)",
      "\u001b[0;32m<ipython-input-18-e71fe0f7dfc6>\u001b[0m in \u001b[0;36m<module>\u001b[0;34m\u001b[0m\n\u001b[1;32m     78\u001b[0m \u001b[0;34m\u001b[0m\u001b[0m\n\u001b[1;32m     79\u001b[0m \u001b[0;32mfor\u001b[0m \u001b[0;34m(\u001b[0m\u001b[0mi\u001b[0m\u001b[0;34m,\u001b[0m\u001b[0mdet_i\u001b[0m\u001b[0;34m)\u001b[0m\u001b[0;34m,\u001b[0m \u001b[0;34m(\u001b[0m\u001b[0mj\u001b[0m\u001b[0;34m,\u001b[0m \u001b[0mdet_j\u001b[0m\u001b[0;34m)\u001b[0m \u001b[0;32min\u001b[0m \u001b[0mproduct\u001b[0m\u001b[0;34m(\u001b[0m \u001b[0menumerate\u001b[0m\u001b[0;34m(\u001b[0m\u001b[0mdet\u001b[0m\u001b[0;34m)\u001b[0m\u001b[0;34m,\u001b[0m \u001b[0menumerate\u001b[0m\u001b[0;34m(\u001b[0m\u001b[0mdet\u001b[0m\u001b[0;34m)\u001b[0m \u001b[0;34m)\u001b[0m\u001b[0;34m:\u001b[0m\u001b[0;34m\u001b[0m\u001b[0m\n\u001b[0;32m---> 80\u001b[0;31m     \u001b[0mhij\u001b[0m \u001b[0;34m=\u001b[0m \u001b[0mH_i_j\u001b[0m\u001b[0;34m(\u001b[0m\u001b[0mdet_i\u001b[0m\u001b[0;34m,\u001b[0m\u001b[0mdet_j\u001b[0m\u001b[0;34m)\u001b[0m\u001b[0;34m\u001b[0m\u001b[0m\n\u001b[0m\u001b[1;32m     81\u001b[0m     \u001b[0;32mif\u001b[0m \u001b[0mi\u001b[0m \u001b[0;34m==\u001b[0m \u001b[0mj\u001b[0m\u001b[0;34m:\u001b[0m\u001b[0;34m\u001b[0m\u001b[0m\n\u001b[1;32m     82\u001b[0m         \u001b[0mhij\u001b[0m \u001b[0;34m=\u001b[0m \u001b[0mhij\u001b[0m \u001b[0;34m-\u001b[0m \u001b[0mE0\u001b[0m\u001b[0;34m\u001b[0m\u001b[0m\n",
      "\u001b[0;32m<ipython-input-10-7203ff261e51>\u001b[0m in \u001b[0;36mH_i_j\u001b[0;34m(det_i, det_j)\u001b[0m\n\u001b[1;32m     12\u001b[0m         \u001b[0;32mreturn\u001b[0m \u001b[0mH_i_j_single\u001b[0m\u001b[0;34m(\u001b[0m\u001b[0mdet_i\u001b[0m\u001b[0;34m.\u001b[0m\u001b[0malpha\u001b[0m\u001b[0;34m,\u001b[0m \u001b[0mdet_j\u001b[0m\u001b[0;34m.\u001b[0m\u001b[0malpha\u001b[0m\u001b[0;34m,\u001b[0m \u001b[0mdet_i\u001b[0m\u001b[0;34m.\u001b[0m\u001b[0mbeta\u001b[0m\u001b[0;34m)\u001b[0m\u001b[0;34m\u001b[0m\u001b[0m\n\u001b[1;32m     13\u001b[0m     \u001b[0;32melif\u001b[0m \u001b[0;34m(\u001b[0m\u001b[0med_up\u001b[0m\u001b[0;34m,\u001b[0m \u001b[0med_dn\u001b[0m\u001b[0;34m)\u001b[0m \u001b[0;34m==\u001b[0m \u001b[0;34m(\u001b[0m\u001b[0;36m0\u001b[0m\u001b[0;34m,\u001b[0m \u001b[0;36m1\u001b[0m\u001b[0;34m)\u001b[0m\u001b[0;34m:\u001b[0m\u001b[0;34m\u001b[0m\u001b[0m\n\u001b[0;32m---> 14\u001b[0;31m         \u001b[0;32mreturn\u001b[0m \u001b[0mH_i_j_single\u001b[0m\u001b[0;34m(\u001b[0m\u001b[0mdet_i\u001b[0m\u001b[0;34m.\u001b[0m\u001b[0mbeta\u001b[0m\u001b[0;34m,\u001b[0m \u001b[0mdet_j\u001b[0m\u001b[0;34m.\u001b[0m\u001b[0mbeta\u001b[0m\u001b[0;34m,\u001b[0m \u001b[0mdet_i\u001b[0m\u001b[0;34m.\u001b[0m\u001b[0malpha\u001b[0m\u001b[0;34m)\u001b[0m\u001b[0;34m\u001b[0m\u001b[0m\n\u001b[0m\u001b[1;32m     15\u001b[0m \u001b[0;34m\u001b[0m\u001b[0m\n\u001b[1;32m     16\u001b[0m     \u001b[0;31m# Double excitation of same spin\u001b[0m\u001b[0;34m\u001b[0m\u001b[0;34m\u001b[0m\u001b[0m\n",
      "\u001b[0;32m<ipython-input-8-5e35629f6b86>\u001b[0m in \u001b[0;36mH_i_j_single\u001b[0;34m(detspin_i, detspin_j, detspin_k)\u001b[0m\n\u001b[1;32m     49\u001b[0m \u001b[0;34m\u001b[0m\u001b[0m\n\u001b[1;32m     50\u001b[0m     \u001b[0;31m# Interaction\u001b[0m\u001b[0;34m\u001b[0m\u001b[0;34m\u001b[0m\u001b[0m\n\u001b[0;32m---> 51\u001b[0;31m     \u001b[0mphase\u001b[0m\u001b[0;34m,\u001b[0m \u001b[0mm\u001b[0m\u001b[0;34m,\u001b[0m \u001b[0mp\u001b[0m \u001b[0;34m=\u001b[0m \u001b[0mself\u001b[0m\u001b[0;34m.\u001b[0m\u001b[0mget_phase_idx_single_exc\u001b[0m\u001b[0;34m(\u001b[0m\u001b[0mdetspin_i\u001b[0m\u001b[0;34m,\u001b[0m\u001b[0mdetspin_j\u001b[0m\u001b[0;34m)\u001b[0m\u001b[0;34m\u001b[0m\u001b[0m\n\u001b[0m\u001b[1;32m     52\u001b[0m     \u001b[0mres\u001b[0m \u001b[0;34m=\u001b[0m \u001b[0mself\u001b[0m\u001b[0;34m.\u001b[0m\u001b[0mH_one_e\u001b[0m\u001b[0;34m(\u001b[0m\u001b[0mm\u001b[0m\u001b[0;34m,\u001b[0m\u001b[0mp\u001b[0m\u001b[0;34m)\u001b[0m\u001b[0;34m\u001b[0m\u001b[0m\n\u001b[1;32m     53\u001b[0m \u001b[0;34m\u001b[0m\u001b[0m\n",
      "\u001b[0;31mNameError\u001b[0m: name 'self' is not defined"
     ]
    }
   ],
   "source": [
    "fcidump_path='data/f2_631g.FCIDUMP'\n",
    "wf_path='data/f2_631g.10det.wf'\n",
    "\n",
    "psi_coef, det = load_wf(wf_path)\n",
    "\n",
    "E0, d_one_e_integral, d_two_e_integral = load_integrals(fcidump_path)\n",
    "\n",
    "\n",
    "data = \\\n",
    "\"\"\"           1           1  -228.839358707349     \n",
    "           2           1  2.920537041552980E-002\n",
    "           3           1 -1.255985888976286E-002\n",
    "           4           1 -0.168761956584245     \n",
    "           5           1  0.145829482733819     \n",
    "           6           1  1.085314345825063E-002\n",
    "           7           1  0.115306693893934     \n",
    "           8           1 -4.136200013128970E-003\n",
    "           9           1  0.101017162812122     \n",
    "           1           2  2.920537041552980E-002\n",
    "           2           2  -228.839358707349     \n",
    "           3           2 -0.168761956584245     \n",
    "           4           2 -1.255985888976286E-002\n",
    "           5           2  1.085314345825063E-002\n",
    "           6           2  0.145829482733819     \n",
    "           7           2 -4.136200013128970E-003\n",
    "           8           2  0.115306693893934     \n",
    "          10           2  0.101017162812122     \n",
    "           1           3 -1.255985888976286E-002\n",
    "           2           3 -0.168761956584245     \n",
    "           3           3  -228.249267026920     \n",
    "           4           3  2.660919205800134E-002\n",
    "           6           3  1.369740698241225E-015\n",
    "           9           3  9.671138757713967E-003\n",
    "           1           4 -0.168761956584245     \n",
    "           2           4 -1.255985888976286E-002\n",
    "           3           4  2.660919205800134E-002\n",
    "           4           4  -228.249267026920     \n",
    "           5           4  1.369740698241225E-015\n",
    "          10           4  9.671138757713967E-003\n",
    "           1           5  0.145829482733819     \n",
    "           2           5  1.085314345825063E-002\n",
    "           4           5  1.369740698241225E-015\n",
    "           5           5  -228.249267026920     \n",
    "           6           5  2.660919205800124E-002\n",
    "          10           5 -8.356961432717070E-003\n",
    "           1           6  1.085314345825063E-002\n",
    "           2           6  0.145829482733819     \n",
    "           3           6  1.369740698241225E-015\n",
    "           5           6  2.660919205800124E-002\n",
    "           6           6  -228.249267026920     \n",
    "           9           6 -8.356961432717070E-003\n",
    "           1           7  0.115306693893934     \n",
    "           2           7 -4.136200013128970E-003\n",
    "           7           7  -227.396544277563     \n",
    "           8           7  1.461383175586562E-002\n",
    "           9           7 -6.511227326576720E-002\n",
    "           1           8 -4.136200013128970E-003\n",
    "           2           8  0.115306693893934     \n",
    "           7           8  1.461383175586562E-002\n",
    "           8           8  -227.396544277563     \n",
    "          10           8 -6.511227326576720E-002\n",
    "           1           9  0.101017162812122     \n",
    "           3           9  9.671138757713967E-003\n",
    "           6           9 -8.356961432717070E-003\n",
    "           7           9 -6.511227326576720E-002\n",
    "           9           9  -226.710295336874     \n",
    "           2          10  0.101017162812122     \n",
    "           4          10  9.671138757713967E-003\n",
    "           5          10 -8.356961432717070E-003\n",
    "           8          10 -6.511227326576720E-002\n",
    "          10          10  -226.710295336874      \"\"\".splitlines()\n",
    "\n",
    "ref = defaultdict(float)\n",
    "\n",
    "for line in data:\n",
    "    i, j, v = line.split()\n",
    "    ref[(int(i)-1,int(j)-1)] = float(v)\n",
    "\n",
    "for (i,det_i), (j, det_j) in product( enumerate(det), enumerate(det) ):\n",
    "    hij = H_i_j(det_i,det_j)\n",
    "    if i == j:\n",
    "        hij = hij - E0\n",
    "    degree = get_exc_degree(det_i,det_j)\n",
    "    if abs(hij - ref[(i,j)])/(max(abs(hij),1.e-15)) < 1.e-12: \n",
    "        marker = \"\"\n",
    "    else:\n",
    "        marker = \"<-\"\n",
    "    print(\"{0:2d} {1:2d}  {2} {3:15.8e} | ref : {4:15.8e} {5}\".format( i, j, degree, hij, ref[(i,j)], marker ) )\n",
    "    "
   ]
  },
  {
   "cell_type": "markdown",
   "metadata": {},
   "source": [
    "## Single-determinant PT2"
   ]
  },
  {
   "cell_type": "code",
   "execution_count": null,
   "metadata": {
    "scrolled": true
   },
   "outputs": [],
   "source": [
    "fcidump_path='data/f2_631g.161det.fcidump'\n",
    "wf_path='data/f2_631g.161det.wf'\n",
    "\n",
    "psi_coef, det = load_wf(wf_path)\n",
    "psi_coef = [1.]\n",
    "det= det[:1]\n",
    "\n",
    "E0, d_one_e_integral, d_two_e_integral = load_integrals(fcidump_path)\n",
    "\n",
    "\n",
    "E = E_var(det, psi_coef)\n",
    "EPT2 = e_pt2(det, psi_coef, E)\n",
    "Variance = variance(det, psi_coef)\n",
    "\n",
    "print(\"Energy   = {0:15.6f}  | ref : -198.646097\".format(E))\n",
    "print(\"Variance = {0:15.6f}  | ref :    1.114264\".format(Variance))\n",
    "print(\"E_PT2    = {0:15.6f}  | ref :   -0.367588\".format(EPT2))\n",
    "print(\"E+PT2    = {0:15.6f}  | ref : -199.013685\".format(E+EPT2))\n",
    "\n",
    "print(select_determinants(det, psi_coef, E, 3))"
   ]
  },
  {
   "cell_type": "markdown",
   "metadata": {},
   "source": [
    "## Multi-determinant wave function"
   ]
  },
  {
   "cell_type": "code",
   "execution_count": null,
   "metadata": {},
   "outputs": [],
   "source": [
    "fcidump_path='data/f2_631g.161det.fcidump'\n",
    "wf_path='data/f2_631g.161det.wf'\n",
    "\n",
    "psi_coef, det = load_wf(wf_path)\n",
    "\n",
    "E0, d_one_e_integral, d_two_e_integral = load_integrals(fcidump_path)\n",
    "\n",
    "\n",
    "E = E_var(det, psi_coef)\n",
    "#EPT2 = e_pt2(det, psi_coef, E)\n",
    "#Variance = variance(det, psi_coef)\n",
    "\n",
    "print(\"Energy   = {0:15.6f}  | ref : -198.8084269796\".format(E))\n",
    "#print(\"Variance = {0:15.6f}  | ref :  0.92649843\".format(Variance))\n",
    "#print(\"E_PT2    = {0:15.6f}  | ref : -0.24321128\".format(EPT2))\n",
    "#print(\"E+PT2    = {0:15.6f}  | ref : -198.792174\".format(E+EPT2))\n",
    "#\n",
    "#print(select_determinants(det, psi_coef, E, 3))"
   ]
  },
  {
   "cell_type": "code",
   "execution_count": null,
   "metadata": {},
   "outputs": [],
   "source": []
  },
  {
   "cell_type": "code",
   "execution_count": null,
   "metadata": {},
   "outputs": [],
   "source": []
  }
 ],
 "metadata": {
  "colab": {
   "authorship_tag": "ABX9TyPttD1DnSz2UCNjQ3qGI6NQ",
   "collapsed_sections": [
    "VUVJhliTHVSx",
    "GY5QmlYWHZTg"
   ],
   "name": "CIPSI-mini-app.ipynp",
   "provenance": []
  },
  "kernelspec": {
   "display_name": "Python 3",
   "language": "python",
   "name": "python3"
  },
  "language_info": {
   "codemirror_mode": {
    "name": "ipython",
    "version": 3
   },
   "file_extension": ".py",
   "mimetype": "text/x-python",
   "name": "python",
   "nbconvert_exporter": "python",
   "pygments_lexer": "ipython3",
   "version": "3.7.0"
  }
 },
 "nbformat": 4,
 "nbformat_minor": 4
}
