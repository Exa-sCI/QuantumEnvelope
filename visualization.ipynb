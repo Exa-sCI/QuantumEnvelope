{
 "cells": [
  {
   "cell_type": "code",
   "execution_count": null,
   "metadata": {},
   "outputs": [],
   "source": [
    "# Global input parameters\n",
    "import numpy as np\n",
    "from tqdm import trange, tqdm\n",
    "mo = 18\n",
    "ne = 4"
   ]
  },
  {
   "cell_type": "code",
   "execution_count": null,
   "metadata": {},
   "outputs": [],
   "source": [
    "def bitmask_to_int(i):\n",
    "    ret = 0\n",
    "    for j in i:\n",
    "        ret += 1 << j\n",
    "    return ret"
   ]
  },
  {
   "cell_type": "code",
   "execution_count": null,
   "metadata": {},
   "outputs": [],
   "source": [
    "# generate valid coordinates\n",
    "i2b = {}\n",
    "b2i = {}\n",
    "from itertools import combinations\n",
    "for i in combinations(list(range(0, mo)), ne):\n",
    "    x = bitmask_to_int(i)\n",
    "    i2b[x] = tuple(i)\n",
    "    b2i[i] = x"
   ]
  },
  {
   "cell_type": "code",
   "execution_count": null,
   "metadata": {},
   "outputs": [],
   "source": [
    "# sort keys in a continuous range\n",
    "N = len(i2b.keys())\n",
    "i2k = {i: set(i2b[k]) for i, k in enumerate(sorted(i2b.keys()))}\n",
    "H = np.zeros((N,N), dtype=bool)\n",
    "print(\"Number of elements:\", N)"
   ]
  },
  {
   "cell_type": "code",
   "execution_count": null,
   "metadata": {},
   "outputs": [],
   "source": [
    "from itertools import product\n",
    "for i, j in tqdm(product(range(0,N), repeat=2), total=N*N):\n",
    "    x = i2k[i]\n",
    "    y = i2k[j]\n",
    "    e = len(x.symmetric_difference(y))\n",
    "    if e < 5:\n",
    "        H[i, j] = 1\n",
    "    else:\n",
    "        H[i, j] = 0\n",
    "    "
   ]
  },
  {
   "cell_type": "code",
   "execution_count": null,
   "metadata": {},
   "outputs": [],
   "source": [
    "import matplotlib.pyplot as plt\n",
    "\n",
    "plt.style.use('grayscale')\n",
    "plt.rcParams['figure.figsize'] = [10, 10]\n",
    "plt.rcParams['figure.dpi'] = 500\n",
    "plt.matshow(H)"
   ]
  },
  {
   "cell_type": "code",
   "execution_count": null,
   "metadata": {},
   "outputs": [],
   "source": [
    "plt.show()"
   ]
  },
  {
   "cell_type": "code",
   "execution_count": null,
   "metadata": {},
   "outputs": [],
   "source": [
    "from numpy import count_nonzero\n",
    "print(\"Sparsity:\", count_nonzero(H)/float(H.size))"
   ]
  },
  {
   "cell_type": "code",
   "execution_count": null,
   "metadata": {},
   "outputs": [],
   "source": []
  }
 ],
 "metadata": {
  "kernelspec": {
   "display_name": "Python 3",
   "language": "python",
   "name": "python3"
  },
  "language_info": {
   "codemirror_mode": {
    "name": "ipython",
    "version": 3
   },
   "file_extension": ".py",
   "mimetype": "text/x-python",
   "name": "python",
   "nbconvert_exporter": "python",
   "pygments_lexer": "ipython3",
   "version": "3.7.5"
  }
 },
 "nbformat": 4,
 "nbformat_minor": 2
}
